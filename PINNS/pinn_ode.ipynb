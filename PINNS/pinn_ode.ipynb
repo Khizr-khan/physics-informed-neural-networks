{
  "nbformat": 4,
  "nbformat_minor": 0,
  "metadata": {
    "colab": {
      "provenance": [],
      "gpuType": "T4"
    },
    "kernelspec": {
      "name": "python3",
      "display_name": "Python 3"
    },
    "language_info": {
      "name": "python"
    },
    "accelerator": "GPU"
  },
  "cells": [
    {
      "cell_type": "markdown",
      "source": [
        "# Ordinary Differential equation\n",
        "Here, we aim to solve the ordinary differential equation (ODE) shown below using neural networks. Before tackling the problem, it is crucial to understand the differential equation along with its boundary conditions, as they form the foundation for formulating the loss function.\n",
        "\n",
        "\n",
        "del_u/del_x = -u\n",
        "\n",
        "u = 1 at x=0"
      ],
      "metadata": {
        "id": "MyxJI0be0v4U"
      }
    },
    {
      "cell_type": "code",
      "execution_count": 2,
      "metadata": {
        "id": "Tq2GRLiAq18c"
      },
      "outputs": [],
      "source": [
        "import torch\n",
        "from torch import nn"
      ]
    },
    {
      "cell_type": "markdown",
      "source": [
        "u = NN(x) --> Here NN(x) will be the neural network function which we will find by minimizing the below loss functions. The loss functions are constructed to ensure that the neural network satisfies the given physical constraints.\n",
        "\n",
        "L = u-NN(x) (Loss function from differential equation)\n",
        "\n",
        "L = del_u/del_x + u (loss fucntion from boundary_condition)"
      ],
      "metadata": {
        "id": "IrnWlGAK4xVA"
      }
    },
    {
      "cell_type": "code",
      "source": [
        "device = 'cuda' if torch.cuda.is_available() else 'cpu'\n",
        "device"
      ],
      "metadata": {
        "colab": {
          "base_uri": "https://localhost:8080/",
          "height": 36
        },
        "id": "gMxJHTewrJng",
        "outputId": "a0a9393b-9566-49d8-d150-7b304cd6498f"
      },
      "execution_count": 3,
      "outputs": [
        {
          "output_type": "execute_result",
          "data": {
            "text/plain": [
              "'cuda'"
            ],
            "application/vnd.google.colaboratory.intrinsic+json": {
              "type": "string"
            }
          },
          "metadata": {},
          "execution_count": 3
        }
      ]
    },
    {
      "cell_type": "markdown",
      "source": [
        "## In the below cell, we are defining the architecture of a neural network that will serve as a model for solving the given differential equation by approximating the solution while satisfying the physical laws and boundary conditions."
      ],
      "metadata": {
        "id": "29Uo4nWlfMER"
      }
    },
    {
      "cell_type": "code",
      "source": [
        "class ODEModel(nn.Module):\n",
        "  def __init__(self):\n",
        "    super().__init__()\n",
        "    self.layer1 = nn.Linear(in_features=1, out_features=10)\n",
        "    self.layer2 = nn.Linear(in_features=10, out_features=1)\n",
        "    self.tanh = nn.Tanh()\n",
        "  def forward(self,x):\n",
        "    return self.layer2(self.tanh(self.layer1(x)))"
      ],
      "metadata": {
        "id": "0-OPui7DrW1k"
      },
      "execution_count": 4,
      "outputs": []
    },
    {
      "cell_type": "code",
      "source": [
        "model=ODEModel()\n",
        "model.state_dict()"
      ],
      "metadata": {
        "colab": {
          "base_uri": "https://localhost:8080/"
        },
        "id": "PK-J-LTKtcGe",
        "outputId": "79434ddb-6b06-4c09-b436-8919d9f73869"
      },
      "execution_count": 5,
      "outputs": [
        {
          "output_type": "execute_result",
          "data": {
            "text/plain": [
              "OrderedDict([('layer1.weight',\n",
              "              tensor([[-0.5193],\n",
              "                      [ 0.3075],\n",
              "                      [ 0.6027],\n",
              "                      [ 0.0686],\n",
              "                      [-0.9059],\n",
              "                      [ 0.9930],\n",
              "                      [ 0.4594],\n",
              "                      [-0.4714],\n",
              "                      [ 0.0174],\n",
              "                      [ 0.1133]])),\n",
              "             ('layer1.bias',\n",
              "              tensor([ 0.0223,  0.9165, -0.4237,  0.3583, -0.9975, -0.4441, -0.3587,  0.7823,\n",
              "                      -0.2151, -0.6541])),\n",
              "             ('layer2.weight',\n",
              "              tensor([[-0.0498,  0.1717, -0.1484, -0.0169,  0.3159,  0.0833,  0.1426,  0.1477,\n",
              "                        0.1505, -0.1724]])),\n",
              "             ('layer2.bias', tensor([0.1766]))])"
            ]
          },
          "metadata": {},
          "execution_count": 5
        }
      ]
    },
    {
      "cell_type": "code",
      "source": [
        "list(model.parameters())"
      ],
      "metadata": {
        "colab": {
          "base_uri": "https://localhost:8080/"
        },
        "id": "6ZPkrus8ATeh",
        "outputId": "7a44013f-27ae-4bff-b107-9f5bb57c26bc"
      },
      "execution_count": 6,
      "outputs": [
        {
          "output_type": "execute_result",
          "data": {
            "text/plain": [
              "[Parameter containing:\n",
              " tensor([[-0.5193],\n",
              "         [ 0.3075],\n",
              "         [ 0.6027],\n",
              "         [ 0.0686],\n",
              "         [-0.9059],\n",
              "         [ 0.9930],\n",
              "         [ 0.4594],\n",
              "         [-0.4714],\n",
              "         [ 0.0174],\n",
              "         [ 0.1133]], requires_grad=True),\n",
              " Parameter containing:\n",
              " tensor([ 0.0223,  0.9165, -0.4237,  0.3583, -0.9975, -0.4441, -0.3587,  0.7823,\n",
              "         -0.2151, -0.6541], requires_grad=True),\n",
              " Parameter containing:\n",
              " tensor([[-0.0498,  0.1717, -0.1484, -0.0169,  0.3159,  0.0833,  0.1426,  0.1477,\n",
              "           0.1505, -0.1724]], requires_grad=True),\n",
              " Parameter containing:\n",
              " tensor([0.1766], requires_grad=True)]"
            ]
          },
          "metadata": {},
          "execution_count": 6
        }
      ]
    },
    {
      "cell_type": "code",
      "source": [
        "def loss_function(x,model):\n",
        "  # Predict u(x) using the model\n",
        "  u = model(x)\n",
        "\n",
        "  # Compute the derivative of u with resepect to x\n",
        "  u_x = torch.autograd.grad(outputs=u,\n",
        "                            inputs=x,\n",
        "                            grad_outputs = torch.ones_like(u),\n",
        "                            create_graph=True)[0]\n",
        "\n",
        "  # ODE residual (should be zero ideally)\n",
        "  ode_residual = u_x + u\n",
        "\n",
        "  # Loss for the ode\n",
        "  ode_loss = torch.mean(ode_residual**2)\n",
        "\n",
        "  # Loss for initial condition\n",
        "  initial_condition_loss = (model(torch.tensor([[0.0]], requires_grad=True))-1.0)**2\n",
        "\n",
        "  return ode_loss + initial_condition_loss"
      ],
      "metadata": {
        "id": "whgg91tP9UFh"
      },
      "execution_count": 7,
      "outputs": []
    },
    {
      "cell_type": "code",
      "source": [
        "optimizer = torch.optim.SGD(model.parameters(), lr=0.01)"
      ],
      "metadata": {
        "id": "jwVPF4ymtfun"
      },
      "execution_count": 8,
      "outputs": []
    },
    {
      "cell_type": "code",
      "source": [
        "x_train = torch.linspace(0,2,100).reshape(-1,1)\n",
        "x_train.requires_grad = True"
      ],
      "metadata": {
        "id": "vJig9Fa4AWkV"
      },
      "execution_count": 9,
      "outputs": []
    },
    {
      "cell_type": "code",
      "source": [
        "# training loop\n",
        "\n",
        "epochs = 1000\n",
        "\n",
        "for epoch in range(epochs):\n",
        "\n",
        "  optimizer.zero_grad()\n",
        "\n",
        "  loss = loss_function(x_train, model)\n",
        "\n",
        "  loss.backward()\n",
        "\n",
        "  optimizer.step()\n",
        "\n",
        "  if epoch % 100 == 0:\n",
        "    print(f'Epoch: {epoch}, Loss: {loss.item()}')\n",
        "  x_test = torch.linspace(0,2,100).reshape(-1,1)\n",
        "  with torch.inference_mode():\n",
        "    u_pred = model(x_test)\n",
        "\n"
      ],
      "metadata": {
        "colab": {
          "base_uri": "https://localhost:8080/"
        },
        "id": "yot8lwr6Am-K",
        "outputId": "fc80e03d-aa0d-4aff-9801-a66cbdeb9344"
      },
      "execution_count": 10,
      "outputs": [
        {
          "output_type": "stream",
          "name": "stdout",
          "text": [
            "Epoch: 0, Loss: 0.667424738407135\n",
            "Epoch: 100, Loss: 0.04067021608352661\n",
            "Epoch: 200, Loss: 0.027264665812253952\n",
            "Epoch: 300, Loss: 0.018045693635940552\n",
            "Epoch: 400, Loss: 0.012211897410452366\n",
            "Epoch: 500, Loss: 0.00870769564062357\n",
            "Epoch: 600, Loss: 0.006636942271143198\n",
            "Epoch: 700, Loss: 0.005387729033827782\n",
            "Epoch: 800, Loss: 0.004591311793774366\n",
            "Epoch: 900, Loss: 0.004041953012347221\n"
          ]
        }
      ]
    },
    {
      "cell_type": "code",
      "source": [
        "import matplotlib.pyplot as plt\n",
        "plt.plot(x_test.numpy(), u_pred.numpy(), label='Neural Network Solution')\n",
        "plt.plot(x_test.numpy(), torch.exp(-x_test).numpy(), label='Analytical Solution', linestyle='dashed')\n",
        "plt.legend()\n",
        "plt.xlabel('x')\n",
        "plt.ylabel('u(x)')\n",
        "plt.title('Solving ODE with Neural Networks')\n",
        "plt.show()"
      ],
      "metadata": {
        "colab": {
          "base_uri": "https://localhost:8080/",
          "height": 472
        },
        "id": "IuKLNh9pBqkz",
        "outputId": "c074733d-7abc-4e7a-b5fd-fd99f5810c71"
      },
      "execution_count": 11,
      "outputs": [
        {
          "output_type": "display_data",
          "data": {
            "text/plain": [
              "<Figure size 640x480 with 1 Axes>"
            ],
            "image/png": "[encoded data removed]"
          },
          "metadata": {}
        }
      ]
    },
    {
      "cell_type": "code",
      "source": [
        "from sklearn.metrics import mean_squared_error\n",
        "print(\"The mean squared error between PINNS and Analytical solution is\",mean_squared_error(torch.exp(-x_test).numpy(), u_pred.numpy()))"
      ],
      "metadata": {
        "colab": {
          "base_uri": "https://localhost:8080/"
        },
        "id": "UH0IIDyQg9H3",
        "outputId": "cbf76b6f-26f7-4906-e211-525f1a18a936"
      },
      "execution_count": 16,
      "outputs": [
        {
          "output_type": "stream",
          "name": "stdout",
          "text": [
            "The mean squared error between PINNS and Analytical solution is 0.00014604509\n"
          ]
        }
      ]
    },
    {
      "cell_type": "markdown",
      "source": [
        "# The mean squared error between the **Physics Informed Neural Networks** and the **Analytical Solution** is very close to 0. This shows that the model is a close approximation of the actual solution.\n",
        "\n",
        "# In our other notebooks we will try to solve other popular differential euqations.\n"
      ],
      "metadata": {
        "id": "G4oYRh3RjFve"
      }
    },
    {
      "cell_type": "markdown",
      "source": [
        "---------------------------------------------------------------"
      ],
      "metadata": {
        "id": "7xI1FPIij_G7"
      }
    },
    {
      "cell_type": "code",
      "source": [],
      "metadata": {
        "id": "N1mNLnAijD0z"
      },
      "execution_count": null,
      "outputs": []
    }
  ]
}